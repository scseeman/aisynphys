{
 "cells": [
  {
   "cell_type": "code",
   "execution_count": 1,
   "metadata": {},
   "outputs": [],
   "source": [
    "import numpy as np\n",
    "from aisynphys.database import default_db as db\n",
    "from aisynphys.cell_class import CellClass"
   ]
  },
  {
   "cell_type": "code",
   "execution_count": 2,
   "metadata": {},
   "outputs": [],
   "source": [
    "cell_class_criteria = {\n",
    "    'l23pyr': {'dendrite_type': 'spiny', 'target_layer': '2/3'},\n",
    "    'l4pyr':  {'cre_type': 'nr5a1'},\n",
    "    'l5et':   {'cre_type': ('sim1', 'fam84b')},\n",
    "    'l5it':   {'cre_type': 'tlx3'}, \n",
    "    'l6pyr':  {'cre_type': 'ntsr1'},\n",
    "    'pv':     {'cre_type': 'pvalb'},\n",
    "    'sst':    {'cre_type': 'sst'},\n",
    "    'vip':    {'cre_type': 'vip'},  \n",
    "}\n",
    "\n",
    "cell_classes = {name:CellClass(name=name, **criteria) for name,criteria in cell_class_criteria.items()}"
   ]
  },
  {
   "cell_type": "code",
   "execution_count": 3,
   "metadata": {},
   "outputs": [],
   "source": [
    "from collections import OrderedDict\n",
    "\n",
    "results = OrderedDict()\n",
    "pairs = None\n",
    "for pre_name, pre_class in cell_classes.items():\n",
    "    for post_name, post_class in cell_classes.items():\n",
    "        pair_query = db.pair_query(\n",
    "            project_name=[\"mouse V1 coarse matrix\", 'mouse V1 pre-production'],\n",
    "            pre_class=pre_class,\n",
    "            post_class=post_class,\n",
    "            synapse=True,\n",
    "        )\n",
    "        \n",
    "        pair_query = pair_query.add_columns(\n",
    "            db.Synapse.psp_amplitude,\n",
    "            db.Synapse.psp_rise_time,\n",
    "            db.Synapse.psp_decay_tau,\n",
    "            db.Synapse.latency,\n",
    "        )\n",
    "        df = pair_query.dataframe()\n",
    "        df['pre_class'] = pre_name\n",
    "        df['post_class'] = post_name\n",
    "        if pairs is None:\n",
    "            pairs = df\n",
    "        else:\n",
    "            pairs = pairs.append(df)    "
   ]
  },
  {
   "cell_type": "code",
   "execution_count": 18,
   "metadata": {},
   "outputs": [
    {
     "data": {
      "text/html": [
       "<div>\n",
       "<style scoped>\n",
       "    .dataframe tbody tr th:only-of-type {\n",
       "        vertical-align: middle;\n",
       "    }\n",
       "\n",
       "    .dataframe tbody tr th {\n",
       "        vertical-align: top;\n",
       "    }\n",
       "\n",
       "    .dataframe thead th {\n",
       "        text-align: right;\n",
       "    }\n",
       "</style>\n",
       "<table border=\"1\" class=\"dataframe\">\n",
       "  <thead>\n",
       "    <tr style=\"text-align: right;\">\n",
       "      <th></th>\n",
       "      <th></th>\n",
       "      <th>id</th>\n",
       "      <th>experiment_id</th>\n",
       "      <th>pre_cell_id</th>\n",
       "      <th>post_cell_id</th>\n",
       "      <th>has_synapse</th>\n",
       "      <th>has_electrical</th>\n",
       "      <th>crosstalk_artifact</th>\n",
       "      <th>n_ex_test_spikes</th>\n",
       "      <th>n_in_test_spikes</th>\n",
       "      <th>distance</th>\n",
       "      <th>meta</th>\n",
       "      <th>psp_amplitude</th>\n",
       "      <th>psp_rise_time</th>\n",
       "      <th>psp_decay_tau</th>\n",
       "      <th>latency</th>\n",
       "    </tr>\n",
       "    <tr>\n",
       "      <th>pre_class</th>\n",
       "      <th>post_class</th>\n",
       "      <th></th>\n",
       "      <th></th>\n",
       "      <th></th>\n",
       "      <th></th>\n",
       "      <th></th>\n",
       "      <th></th>\n",
       "      <th></th>\n",
       "      <th></th>\n",
       "      <th></th>\n",
       "      <th></th>\n",
       "      <th></th>\n",
       "      <th></th>\n",
       "      <th></th>\n",
       "      <th></th>\n",
       "      <th></th>\n",
       "    </tr>\n",
       "  </thead>\n",
       "  <tbody>\n",
       "    <tr>\n",
       "      <th rowspan=\"5\" valign=\"top\">l23pyr</th>\n",
       "      <th>l23pyr</th>\n",
       "      <td>42775.000000</td>\n",
       "      <td>1246.250000</td>\n",
       "      <td>7424.000000</td>\n",
       "      <td>7424.500000</td>\n",
       "      <td>1.0</td>\n",
       "      <td>0.0</td>\n",
       "      <td>NaN</td>\n",
       "      <td>738.750000</td>\n",
       "      <td>398.750000</td>\n",
       "      <td>0.000070</td>\n",
       "      <td>NaN</td>\n",
       "      <td>0.000185</td>\n",
       "      <td>0.004130</td>\n",
       "      <td>0.029526</td>\n",
       "      <td>0.001795</td>\n",
       "    </tr>\n",
       "    <tr>\n",
       "      <th>l5et</th>\n",
       "      <td>80915.000000</td>\n",
       "      <td>2501.000000</td>\n",
       "      <td>14482.000000</td>\n",
       "      <td>14479.000000</td>\n",
       "      <td>1.0</td>\n",
       "      <td>0.0</td>\n",
       "      <td>NaN</td>\n",
       "      <td>533.000000</td>\n",
       "      <td>413.000000</td>\n",
       "      <td>0.000397</td>\n",
       "      <td>NaN</td>\n",
       "      <td>-0.000653</td>\n",
       "      <td>0.004891</td>\n",
       "      <td>0.011459</td>\n",
       "      <td>0.003594</td>\n",
       "    </tr>\n",
       "    <tr>\n",
       "      <th>pv</th>\n",
       "      <td>74118.916667</td>\n",
       "      <td>2273.416667</td>\n",
       "      <td>13179.583333</td>\n",
       "      <td>13177.333333</td>\n",
       "      <td>1.0</td>\n",
       "      <td>0.0</td>\n",
       "      <td>NaN</td>\n",
       "      <td>681.583333</td>\n",
       "      <td>364.500000</td>\n",
       "      <td>0.000112</td>\n",
       "      <td>NaN</td>\n",
       "      <td>0.000316</td>\n",
       "      <td>0.002129</td>\n",
       "      <td>0.010590</td>\n",
       "      <td>0.001387</td>\n",
       "    </tr>\n",
       "    <tr>\n",
       "      <th>sst</th>\n",
       "      <td>79826.090909</td>\n",
       "      <td>2470.454545</td>\n",
       "      <td>14268.636364</td>\n",
       "      <td>14268.272727</td>\n",
       "      <td>1.0</td>\n",
       "      <td>0.0</td>\n",
       "      <td>NaN</td>\n",
       "      <td>598.636364</td>\n",
       "      <td>196.454545</td>\n",
       "      <td>0.000076</td>\n",
       "      <td>NaN</td>\n",
       "      <td>0.000401</td>\n",
       "      <td>0.004388</td>\n",
       "      <td>0.049820</td>\n",
       "      <td>0.001527</td>\n",
       "    </tr>\n",
       "    <tr>\n",
       "      <th>vip</th>\n",
       "      <td>65999.888889</td>\n",
       "      <td>1981.000000</td>\n",
       "      <td>11617.222222</td>\n",
       "      <td>11617.222222</td>\n",
       "      <td>1.0</td>\n",
       "      <td>0.0</td>\n",
       "      <td>NaN</td>\n",
       "      <td>652.555556</td>\n",
       "      <td>134.444444</td>\n",
       "      <td>0.000095</td>\n",
       "      <td>NaN</td>\n",
       "      <td>0.000523</td>\n",
       "      <td>0.005641</td>\n",
       "      <td>0.042133</td>\n",
       "      <td>0.001647</td>\n",
       "    </tr>\n",
       "  </tbody>\n",
       "</table>\n",
       "</div>"
      ],
      "text/plain": [
       "                                id  experiment_id   pre_cell_id  post_cell_id  \\\n",
       "pre_class post_class                                                            \n",
       "l23pyr    l23pyr      42775.000000    1246.250000   7424.000000   7424.500000   \n",
       "          l5et        80915.000000    2501.000000  14482.000000  14479.000000   \n",
       "          pv          74118.916667    2273.416667  13179.583333  13177.333333   \n",
       "          sst         79826.090909    2470.454545  14268.636364  14268.272727   \n",
       "          vip         65999.888889    1981.000000  11617.222222  11617.222222   \n",
       "\n",
       "                      has_synapse  has_electrical  crosstalk_artifact  \\\n",
       "pre_class post_class                                                    \n",
       "l23pyr    l23pyr              1.0             0.0                 NaN   \n",
       "          l5et                1.0             0.0                 NaN   \n",
       "          pv                  1.0             0.0                 NaN   \n",
       "          sst                 1.0             0.0                 NaN   \n",
       "          vip                 1.0             0.0                 NaN   \n",
       "\n",
       "                      n_ex_test_spikes  n_in_test_spikes  distance  meta  \\\n",
       "pre_class post_class                                                       \n",
       "l23pyr    l23pyr            738.750000        398.750000  0.000070   NaN   \n",
       "          l5et              533.000000        413.000000  0.000397   NaN   \n",
       "          pv                681.583333        364.500000  0.000112   NaN   \n",
       "          sst               598.636364        196.454545  0.000076   NaN   \n",
       "          vip               652.555556        134.444444  0.000095   NaN   \n",
       "\n",
       "                      psp_amplitude  psp_rise_time  psp_decay_tau   latency  \n",
       "pre_class post_class                                                         \n",
       "l23pyr    l23pyr           0.000185       0.004130       0.029526  0.001795  \n",
       "          l5et            -0.000653       0.004891       0.011459  0.003594  \n",
       "          pv               0.000316       0.002129       0.010590  0.001387  \n",
       "          sst              0.000401       0.004388       0.049820  0.001527  \n",
       "          vip              0.000523       0.005641       0.042133  0.001647  "
      ]
     },
     "execution_count": 18,
     "metadata": {},
     "output_type": "execute_result"
    }
   ],
   "source": [
    "pairs_has_amp = pairs[~pairs['psp_amplitude'].isnull()]\n",
    "psp_amp = pairs_has_amp.groupby(['pre_class', 'post_class']).aggregate(lambda x: np.mean(x))\n",
    "psp_amp.head()"
   ]
  },
  {
   "cell_type": "code",
   "execution_count": 34,
   "metadata": {},
   "outputs": [
    {
     "name": "stderr",
     "output_type": "stream",
     "text": [
      "C:\\Users\\stephanies\\AppData\\Local\\Continuum\\anaconda2\\envs\\py3\\lib\\site-packages\\matplotlib\\colors.py:527: RuntimeWarning: invalid value encountered in less\n",
      "  xa[xa < 0] = -1\n"
     ]
    },
    {
     "data": {
      "image/png": "[encoded data removed]",
      "text/plain": [
       "<Figure size 720x720 with 2 Axes>"
      ]
     },
     "metadata": {
      "needs_background": "light"
     },
     "output_type": "display_data"
    }
   ],
   "source": [
    "from aisynphys.ui.notebook import heatmap, annotate_heatmap\n",
    "import matplotlib.colors, matplotlib.cm\n",
    "import matplotlib.pyplot as plt\n",
    "%matplotlib inline\n",
    "\n",
    "cmap = matplotlib.cm.get_cmap('bwr')\n",
    "norm = matplotlib.colors.Normalize(vmin=-1, vmax=1, clip=False)\n",
    "\n",
    "class_labels = {\n",
    "    'l23pyr': 'L2/3 Pyr\\n spiny',\n",
    "    'l4pyr':  'L4 Pyr\\n nr5a1',\n",
    "    'l5et':   'L5 Pyr\\n sim1, fam84b',\n",
    "    'l5it':   'L5 Pyr\\n tlx3', \n",
    "    'l6pyr':  'L6 Pyt\\n ntsr1',\n",
    "    'pv':     'Pv',\n",
    "    'sst':    'Sst',\n",
    "    'vip':    'Vip',\n",
    "}\n",
    "\n",
    "shape = (len(cell_classes), len(cell_classes))\n",
    "data = np.zeros(shape)\n",
    "data_alpha = np.zeros(shape)\n",
    "data_str = np.zeros(shape, dtype=object)\n",
    "\n",
    "for i, pre_class in enumerate(cell_classes):\n",
    "    for j, post_class in enumerate(cell_classes):\n",
    "        try:\n",
    "            value = psp_amp.loc[pre_class].loc[post_class].psp_amplitude\n",
    "        except KeyError:\n",
    "            value = np.nan\n",
    "        data[i, j] = value*1e3\n",
    "        data_str[i, j] = \"%0.2f mV\" % (value*1e3) if np.isfinite(value) else \"\"\n",
    "        data_alpha[i, j] = 1 if np.isfinite(value) else 0 \n",
    "        \n",
    "labels = [class_labels[cls] for cls in cell_classes]\n",
    "mapper = matplotlib.cm.ScalarMappable(cmap=cmap, norm=norm)\n",
    "data_rgb = mapper.to_rgba(data)\n",
    "data_rgb[:,:,3] = np.clip(data_alpha, 0, 1)\n",
    "\n",
    "fig, ax = plt.subplots(figsize=(10,10))\n",
    "im, cbar = heatmap(data_rgb, labels, labels,\n",
    "                  ax=ax,\n",
    "                  ax_labels=('postsynaptic', 'presynaptic'),\n",
    "                  bg_color=(0.8, 0.8, 0.8),\n",
    "                  cmap=cmap,\n",
    "                  norm=norm,\n",
    "                  cbarlabel='Synaptic Strength',\n",
    "                  cbar_kw={'shrink':0.5})\n",
    "\n",
    "text = annotate_heatmap(im, data_str, data=data)"
   ]
  },
  {
   "cell_type": "code",
   "execution_count": 42,
   "metadata": {},
   "outputs": [],
   "source": [
    "excitatory_labels = ['l23pyr', 'l4pyr', 'l5et', 'l5it', 'l6pyr']\n",
    "inhibitory_labels = ['pv', 'sst', 'vip']\n",
    "\n",
    "all_amps = pairs_has_amp['psp_amplitude']\n",
    "ee_amps = pairs_has_amp[pairs_has_amp['pre_class'].isin(excitatory_labels) \n",
    "                            & pairs_has_amp['post_class'].isin(excitatory_labels)]['psp_amplitude']\n",
    "ei_amps = pairs_has_amp[pairs_has_amp['pre_class'].isin(excitatory_labels) \n",
    "                            & pairs_has_amp['post_class'].isin(inhibitory_labels)]['psp_amplitude']\n",
    "ie_amps = pairs_has_amp[pairs_has_amp['pre_class'].isin(inhibitory_labels) \n",
    "                            & pairs_has_amp['post_class'].isin(excitatory_labels)]['psp_amplitude']\n",
    "ii_amps = pairs_has_amp[pairs_has_amp['pre_class'].isin(inhibitory_labels) \n",
    "                            & pairs_has_amp['post_class'].isin(inhibitory_labels)]['psp_amplitude']"
   ]
  },
  {
   "cell_type": "code",
   "execution_count": 43,
   "metadata": {},
   "outputs": [
    {
     "data": {
      "text/plain": [
       "(array([ 1.,  1.,  2.,  1.,  3.,  2.,  5.,  4.,  8., 12., 27., 17., 26.,\n",
       "        65., 69.,  5.,  1.,  0.,  0.,  0.,  1.,  0.,  0.,  0.,  0.,  0.,\n",
       "         0.,  0.,  0.,  0.]),\n",
       " array([-3.00000000e+00, -2.80000000e+00, -2.60000000e+00, -2.40000000e+00,\n",
       "        -2.20000000e+00, -2.00000000e+00, -1.80000000e+00, -1.60000000e+00,\n",
       "        -1.40000000e+00, -1.20000000e+00, -1.00000000e+00, -8.00000000e-01,\n",
       "        -6.00000000e-01, -4.00000000e-01, -2.00000000e-01,  2.66453526e-15,\n",
       "         2.00000000e-01,  4.00000000e-01,  6.00000000e-01,  8.00000000e-01,\n",
       "         1.00000000e+00,  1.20000000e+00,  1.40000000e+00,  1.60000000e+00,\n",
       "         1.80000000e+00,  2.00000000e+00,  2.20000000e+00,  2.40000000e+00,\n",
       "         2.60000000e+00,  2.80000000e+00,  3.00000000e+00]),\n",
       " <a list of 30 Patch objects>)"
      ]
     },
     "execution_count": 43,
     "metadata": {},
     "output_type": "execute_result"
    },
    {
     "data": {
      "image/png": "[encoded data removed]",
      "text/plain": [
       "<Figure size 432x288 with 1 Axes>"
      ]
     },
     "metadata": {
      "needs_background": "light"
     },
     "output_type": "display_data"
    }
   ],
   "source": [
    "bin_edges = np.arange(-3, 3.1, 0.2)\n",
    "\n",
    "plt.hist(all_amps*1e3, bins=bin_edges, color=(0.8, 0.8, 0.8))\n",
    "\n",
    "plt.hist(ee_amps*1e3, bins=bin_edges, color='red', alpha=0.4)\n",
    "plt.hist(ii_amps*1e3, bins=bin_edges, color='blue', alpha=0.4)"
   ]
  },
  {
   "cell_type": "code",
   "execution_count": 44,
   "metadata": {},
   "outputs": [
    {
     "data": {
      "text/plain": [
       "(array([ 0.,  0.,  1.,  0.,  2.,  1.,  1.,  3.,  3.,  3.,  5.,  7., 18.,\n",
       "        23., 22.,  0.,  0.,  0.,  0.,  0.,  0.,  0.,  0.,  0.,  0.,  0.,\n",
       "         0.,  0.,  0.,  0.]),\n",
       " array([-3.00000000e+00, -2.80000000e+00, -2.60000000e+00, -2.40000000e+00,\n",
       "        -2.20000000e+00, -2.00000000e+00, -1.80000000e+00, -1.60000000e+00,\n",
       "        -1.40000000e+00, -1.20000000e+00, -1.00000000e+00, -8.00000000e-01,\n",
       "        -6.00000000e-01, -4.00000000e-01, -2.00000000e-01,  2.66453526e-15,\n",
       "         2.00000000e-01,  4.00000000e-01,  6.00000000e-01,  8.00000000e-01,\n",
       "         1.00000000e+00,  1.20000000e+00,  1.40000000e+00,  1.60000000e+00,\n",
       "         1.80000000e+00,  2.00000000e+00,  2.20000000e+00,  2.40000000e+00,\n",
       "         2.60000000e+00,  2.80000000e+00,  3.00000000e+00]),\n",
       " <a list of 30 Patch objects>)"
      ]
     },
     "execution_count": 44,
     "metadata": {},
     "output_type": "execute_result"
    },
    {
     "data": {
      "image/png": "[encoded data removed]",
      "text/plain": [
       "<Figure size 432x288 with 1 Axes>"
      ]
     },
     "metadata": {
      "needs_background": "light"
     },
     "output_type": "display_data"
    }
   ],
   "source": [
    "plt.hist(all_amps*1e3, bins=bin_edges, color=(0.8, 0.8, 0.8))\n",
    "\n",
    "plt.hist(ei_amps*1e3, bins=bin_edges, color='red', alpha=0.4)\n",
    "plt.hist(ie_amps*1e3, bins=bin_edges, color='blue', alpha=0.4)"
   ]
  },
  {
   "cell_type": "code",
   "execution_count": 44,
   "metadata": {},
   "outputs": [
    {
     "name": "stdout",
     "output_type": "stream",
     "text": [
      "Ks_2sampResult(statistic=0.12444444444444444, pvalue=0.38501265010261143)\n",
      "Ks_2sampResult(statistic=0.07935521460477762, pvalue=0.730190592833811)\n"
     ]
    }
   ],
   "source": [
    "import scipy.stats as scipy\n",
    "print(scipy.ks_2samp(ee_amps, ei_amps))\n",
    "print(scipy.ks_2samp(ii_amps, ie_amps))"
   ]
  }
 ],
 "metadata": {
  "kernelspec": {
   "display_name": "Python 3",
   "language": "python",
   "name": "python3"
  },
  "language_info": {
   "codemirror_mode": {
    "name": "ipython",
    "version": 3
   },
   "file_extension": ".py",
   "mimetype": "text/x-python",
   "name": "python",
   "nbconvert_exporter": "python",
   "pygments_lexer": "ipython3",
   "version": "3.7.4"
  }
 },
 "nbformat": 4,
 "nbformat_minor": 2
}
